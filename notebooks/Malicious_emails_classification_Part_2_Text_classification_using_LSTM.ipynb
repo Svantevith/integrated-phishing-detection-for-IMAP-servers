{
  "cells": [
    {
      "cell_type": "code",
      "execution_count": 1,
      "metadata": {
        "id": "XKk_BKbCtP1F"
      },
      "outputs": [],
      "source": [
        "import os\n",
        "import re\n",
        "import nltk\n",
        "import spacy\n",
        "import pandas as pd\n",
        "import numpy as np\n",
        "import matplotlib.pyplot as plt\n",
        "from matplotlib.ticker import MaxNLocator\n",
        "import seaborn as sns\n",
        "from datetime import datetime\n",
        "from string import whitespace, punctuation\n",
        "from spacy.tokens.doc import Doc\n",
        "from sklearn.model_selection import train_test_split\n",
        "from sklearn.base import BaseEstimator, TransformerMixin\n",
        "from sklearn.preprocessing import FunctionTransformer\n",
        "from sklearn.pipeline import Pipeline, make_pipeline\n",
        "from sklearn.compose import ColumnTransformer, make_column_transformer\n",
        "import tensorflow as tf\n",
        "from keras.optimizers import Adam\n",
        "from keras.preprocessing.text import Tokenizer\n",
        "from keras.models import Sequential, Model\n",
        "from keras.layers import Dense, Embedding, LSTM, SpatialDropout1D, TextVectorization, Input, Dropout\n",
        "from keras.callbacks import EarlyStopping, ReduceLROnPlateau, ModelCheckpoint\n",
        "from keras.layers import Dropout\n",
        "from sklearn.feature_extraction.text import TfidfVectorizer\n",
        "from typing import Iterable, Generator, List"
      ]
    },
    {
      "cell_type": "code",
      "execution_count": 2,
      "metadata": {
        "id": "xl0VHE2SfMZp"
      },
      "outputs": [],
      "source": [
        "sns.set_style(\"darkgrid\", {'axes.grid' : True})"
      ]
    },
    {
      "cell_type": "markdown",
      "metadata": {
        "id": "EY2qQgpvpnPG"
      },
      "source": [
        "# Define global variables & constants"
      ]
    },
    {
      "cell_type": "code",
      "execution_count": 2,
      "metadata": {
        "id": "KIS_oBgxuvh6"
      },
      "outputs": [],
      "source": [
        "COLUMNS = ['Subject', 'Message', 'Is Fraudulent']\n",
        "DATABASE_PATH = r'..\\resources\\database'\n",
        "LSTM_PATH = r'..\\models\\LSTM'\n",
        "SAVE_MODEL = False"
      ]
    },
    {
      "cell_type": "markdown",
      "metadata": {
        "id": "6RZvSZX7wqiQ"
      },
      "source": [
        "# Load the dataset"
      ]
    },
    {
      "cell_type": "code",
      "execution_count": 4,
      "metadata": {
        "id": "d9b_ncyZux5X"
      },
      "outputs": [],
      "source": [
        "emails_xlsx = os.path.join(DATABASE_PATH, 'emails-database.xlsx')"
      ]
    },
    {
      "cell_type": "code",
      "execution_count": 5,
      "metadata": {
        "id": "VZ0vPUQXu-hD"
      },
      "outputs": [],
      "source": [
        "emails_df1 = pd.read_excel(emails_xlsx, usecols=['Subject', 'Raw Message', 'Is Phishy'], converters={'Is Phishy': int})"
      ]
    },
    {
      "cell_type": "code",
      "execution_count": 6,
      "metadata": {
        "colab": {
          "base_uri": "https://localhost:8080/"
        },
        "id": "qv3mnKMfz_xX",
        "outputId": "a3fd7f9b-026f-49ae-ae66-66a40b6e5b84"
      },
      "outputs": [
        {
          "name": "stdout",
          "output_type": "stream",
          "text": [
            "<class 'pandas.core.frame.DataFrame'>\n",
            "RangeIndex: 6558 entries, 0 to 6557\n",
            "Data columns (total 3 columns):\n",
            " #   Column       Non-Null Count  Dtype \n",
            "---  ------       --------------  ----- \n",
            " 0   Subject      6446 non-null   object\n",
            " 1   Raw Message  6516 non-null   object\n",
            " 2   Is Phishy    6558 non-null   int64 \n",
            "dtypes: int64(1), object(2)\n",
            "memory usage: 153.8+ KB\n"
          ]
        }
      ],
      "source": [
        "emails_df1.info()"
      ]
    },
    {
      "cell_type": "markdown",
      "metadata": {
        "id": "wTfvTKxFbIs0"
      },
      "source": [
        "# Load the second dataset"
      ]
    },
    {
      "cell_type": "code",
      "execution_count": 7,
      "metadata": {
        "id": "men4GZtTbH92"
      },
      "outputs": [],
      "source": [
        "emails_zip = os.path.join(DATABASE_PATH, 'fraud_email_.csv.zip')"
      ]
    },
    {
      "cell_type": "code",
      "execution_count": 8,
      "metadata": {
        "id": "aj09_ahocHd4"
      },
      "outputs": [],
      "source": [
        "emails_df2 = pd.read_csv(emails_zip, converters={'Class': int})"
      ]
    },
    {
      "cell_type": "markdown",
      "metadata": {
        "id": "uyP0mPUV2ebA"
      },
      "source": [
        "Prepend empty 'Subject' column so that the dimensions and columns order match for joining"
      ]
    },
    {
      "cell_type": "code",
      "execution_count": 9,
      "metadata": {
        "id": "bug3wo9G2Koc"
      },
      "outputs": [],
      "source": [
        "emails_df2.insert(loc=0, column='Subject', value=np.full(shape=(emails_df2.shape[0],), fill_value=np.nan))"
      ]
    },
    {
      "cell_type": "code",
      "execution_count": 10,
      "metadata": {},
      "outputs": [
        {
          "name": "stdout",
          "output_type": "stream",
          "text": [
            "<class 'pandas.core.frame.DataFrame'>\n",
            "RangeIndex: 11929 entries, 0 to 11928\n",
            "Data columns (total 3 columns):\n",
            " #   Column   Non-Null Count  Dtype  \n",
            "---  ------   --------------  -----  \n",
            " 0   Subject  0 non-null      float64\n",
            " 1   Text     11928 non-null  object \n",
            " 2   Class    11929 non-null  int64  \n",
            "dtypes: float64(1), int64(1), object(1)\n",
            "memory usage: 279.7+ KB\n"
          ]
        }
      ],
      "source": [
        "emails_df2.info()"
      ]
    },
    {
      "cell_type": "markdown",
      "metadata": {
        "id": "wMUHEBdbph1o"
      },
      "source": [
        "# Join tables"
      ]
    },
    {
      "cell_type": "code",
      "execution_count": 11,
      "metadata": {
        "id": "0EAFey2_dzfO"
      },
      "outputs": [],
      "source": [
        "emails_df = pd.DataFrame(np.r_[emails_df1, emails_df2], columns=COLUMNS)"
      ]
    },
    {
      "cell_type": "markdown",
      "metadata": {
        "id": "4z9iqZMpRXT4"
      },
      "source": [
        "# Analyze textual data\n",
        "Remove any rows where either Raw Message or Phishy is missing."
      ]
    },
    {
      "cell_type": "code",
      "execution_count": 12,
      "metadata": {
        "colab": {
          "base_uri": "https://localhost:8080/"
        },
        "id": "6W5XSWc5RaNJ",
        "outputId": "09720ec9-47a6-4c97-f2a7-abdff985227c"
      },
      "outputs": [
        {
          "name": "stdout",
          "output_type": "stream",
          "text": [
            "<class 'pandas.core.frame.DataFrame'>\n",
            "RangeIndex: 18487 entries, 0 to 18486\n",
            "Data columns (total 3 columns):\n",
            " #   Column         Non-Null Count  Dtype \n",
            "---  ------         --------------  ----- \n",
            " 0   Subject        6446 non-null   object\n",
            " 1   Message        18444 non-null  object\n",
            " 2   Is Fraudulent  18487 non-null  object\n",
            "dtypes: object(3)\n",
            "memory usage: 433.4+ KB\n"
          ]
        }
      ],
      "source": [
        "emails_df.info()"
      ]
    },
    {
      "cell_type": "code",
      "execution_count": 13,
      "metadata": {
        "id": "ghslRaAPpBBP"
      },
      "outputs": [],
      "source": [
        "emails_df.dropna(how='any', subset=['Message', 'Is Fraudulent'], inplace=True)"
      ]
    },
    {
      "cell_type": "markdown",
      "metadata": {
        "id": "1Ly1SMWOrI-3"
      },
      "source": [
        "> Note that after text preprocessing, the number of empty documents might increase. Therefore, additional removal of empty documents from the corpus should be executed after preprocessing!"
      ]
    },
    {
      "cell_type": "code",
      "execution_count": 14,
      "metadata": {
        "id": "iIwJycWePHoS"
      },
      "outputs": [],
      "source": [
        "phishy_freqs = emails_df['Is Fraudulent'].value_counts()"
      ]
    },
    {
      "cell_type": "code",
      "execution_count": 15,
      "metadata": {
        "colab": {
          "base_uri": "https://localhost:8080/",
          "height": 281
        },
        "id": "nnpgB-f7PYRA",
        "outputId": "aaf5d156-32aa-4bfc-d69e-00d5fd7c7392"
      },
      "outputs": [
        {
          "data": {
            "image/png": "[encoded data removed]",
            "text/plain": [
              "<Figure size 640x480 with 1 Axes>"
            ]
          },
          "metadata": {},
          "output_type": "display_data"
        }
      ],
      "source": [
        "plt.barh(y=phishy_freqs.index, width=phishy_freqs.values, color=['seagreen', 'indianred'], align='center')\n",
        "plt.title('Distribution of emails')\n",
        "plt.yticks([0, 1], ['Legitimate', 'Fraudulent'])\n",
        "plt.xlim([0, phishy_freqs.max() * 1.25])\n",
        " \n",
        "# Text right-aligned to each horizontal bar\n",
        "labels = [\"{:.2f}%\".format((f / phishy_freqs.sum()) * 100) for f in phishy_freqs]\n",
        "for i, label in enumerate(labels):\n",
        "    plt.text(x = phishy_freqs[i] + 200, y = i, s = label, size = 10)\n",
        " \n",
        "plt.show()"
      ]
    },
    {
      "cell_type": "markdown",
      "metadata": {
        "id": "tQiI_nso2R7f"
      },
      "source": [
        "## Perform stratified shuffle split"
      ]
    },
    {
      "cell_type": "code",
      "execution_count": 16,
      "metadata": {
        "id": "BSUK6GrkvIfd"
      },
      "outputs": [],
      "source": [
        "# Feature matrix must be multidimensional as it is propagated through a pipeline to transformers\n",
        "X = emails_df[['Subject', 'Message']] # .sample(1000, random_state=33)\n",
        "y = emails_df['Is Fraudulent'].astype(int) # .sample(1000, random_state=33)"
      ]
    },
    {
      "cell_type": "code",
      "execution_count": 17,
      "metadata": {
        "id": "JDm8XHNq4KzI"
      },
      "outputs": [],
      "source": [
        "# Train, test, validation split\n",
        "X_train, X_test, y_train, y_test = train_test_split(X, y, stratify=y, test_size=0.2, random_state=33)\n",
        "X_test, X_val, y_test, y_val = train_test_split(X_test, y_test, stratify=y_test, test_size=0.5, random_state=33)"
      ]
    },
    {
      "cell_type": "markdown",
      "metadata": {
        "id": "_HYfr3mhwuFO"
      },
      "source": [
        "# Preprocess text\n",
        "As part of preprocessing, we need to\n",
        "perform case-folding, stopword removal. We will not keep single-character words. It might be advantagous to lemmatize words as well. \n",
        "Empty rows resulting from text preprocessing should be removed."
      ]
    },
    {
      "cell_type": "code",
      "execution_count": 18,
      "metadata": {
        "id": "1Y-6yqEpKlAy"
      },
      "outputs": [],
      "source": [
        "class SpacyPreprocessor(BaseEstimator, TransformerMixin):\n",
        "    \"\"\"\n",
        "    Description\n",
        "        Class for text preprocessing. Designed for Pipelines and Column Transformers.\n",
        "    Arguments:\n",
        "        - mode [str]: Determine how to exclude tokens based on allowed characters\n",
        "            'all' yields all tokens\n",
        "            'alpha' yields only alphabetical tokens\n",
        "            'alnum' yields alphanumerical tokens \n",
        "            'ascii' yields any ascii-compliant tokens\n",
        "            'non_num' yields everything except for number-like tokens\n",
        "        - min_length [int]: Tokens with length shorter than this value are excluded.\n",
        "        - keep_stop [bool]: If true, stopwords are kept. By default stopwords are removed.\n",
        "    \"\"\"\n",
        "    def __init__(self, mode: str = 'all', min_length: int = 0, keep_stop: bool = False):\n",
        "        super(SpacyPreprocessor, self).__init__()\n",
        "        self.nlp = spacy.load(\n",
        "            name='en_core_web_sm', \n",
        "            disable=[\"parser\", \"ner\"]\n",
        "        )\n",
        "        self.mode = mode\n",
        "        self.min_length = min_length\n",
        "        self.keep_stop = keep_stop\n",
        "\n",
        "\n",
        "    def fit(self, X, y=None):\n",
        "        return self\n",
        "        \n",
        "    def transform(self, X, y=None):\n",
        "        return X.apply(self.preprocess_corpus)\n",
        "    \n",
        "    def preprocess_corpus(self, corpus: List[str]) -> list:\n",
        "        return [\n",
        "            # Join preprocessed docs\n",
        "            ' '.join(self.preprocess_document(doc))\n",
        "            # Apply initial sentence-level cleaning\n",
        "            for doc in self.nlp.pipe(self.clean_document(text=str(x)) for x in corpus)\n",
        "        ]\n",
        "\n",
        "    def preprocess_document(self, doc: Doc) -> Generator[str, None, None]:\n",
        "        # Tokenize document\n",
        "        for token in doc:\n",
        "            # Keep in mind that high frequency of extremely short tokens might indicate fraudulent email\n",
        "            if not len(token.text) >= self.min_length:\n",
        "                continue\n",
        "\n",
        "            # Exclude any non-alphanumeric tokens\n",
        "            # Keep in mind that high frequency of tokens consisting of special characters might indicate fraudulent email\n",
        "            if self.mode == 'alnum' and not token.text.isalnum():\n",
        "                continue\n",
        "\n",
        "            # Exclude non-ASCII tokens\n",
        "            # Keep in mind that high frequency of non-ascii characters might indicate fraudulent email\n",
        "            if self.mode == 'ascii' and not token.is_ascii:\n",
        "                continue \n",
        "\n",
        "            # Exclude non-alphabetic tokens\n",
        "            # Keep in mind that it limits the vocabulary to alphabetic tokens only, significantly affecting the spectrum of characters\n",
        "            if self.mode == 'alpha' and not token.is_alpha:\n",
        "              continue\n",
        "            \n",
        "            # Exclude numeric-like tokens\n",
        "            # Keep in mind that high frequency of numeric-like tokens might indicate fraudulent email\n",
        "            if self.mode == 'non_num' and token.like_num:\n",
        "                continue\n",
        "            \n",
        "            # Exclude stopwords\n",
        "            if not self.keep_stop and token.is_stop:\n",
        "                continue\n",
        "              \n",
        "            # Lemmatization\n",
        "            lemma = token.lemma_\n",
        "\n",
        "            # Yield lemma\n",
        "            yield lemma\n",
        "\n",
        "    @staticmethod\n",
        "    def clean_document(text: str) -> str:\n",
        "        # Clean each word\n",
        "        words = map(\n",
        "            lambda s: SpacyPreprocessor.clean_word(s), \n",
        "            text.casefold().split()\n",
        "        )\n",
        "        # Replace multiple whitespaces with a single space\n",
        "        return ' '.join(filter(lambda s: bool(s), words))\n",
        "\n",
        "    @staticmethod\n",
        "    def clean_word(word: str) -> str:\n",
        "        return re.sub(\n",
        "            # Remove any unicode characters\n",
        "            r\"_x([0-9a-fA-F]{4})_\", '', word\n",
        "        # Strip leading or trailing whitespaces & punctuation marks\n",
        "        # But leave any non-alphanumeric characters within words\n",
        "        ).strip(whitespace + punctuation)"
      ]
    },
    {
      "cell_type": "code",
      "execution_count": 19,
      "metadata": {
        "id": "i23C9H6GpJVM"
      },
      "outputs": [],
      "source": [
        "class TextAttribConcat(BaseEstimator, TransformerMixin): \n",
        "    \n",
        "    \"\"\"\n",
        "    Description:\n",
        "      Concatenate multiple columns into a new one by joining the rows with a defined separator.\n",
        "\n",
        "    Parameters:\n",
        "        - attribs_in: List[str] = list of input features to concatenate.\n",
        "        - attrib_out: str = feature to add.\n",
        "        - sep: str = separator that joins string content in selected columns.\n",
        "    \n",
        "    Usage:\n",
        "        Transformation step in the pipeline.\n",
        "    \n",
        "    Example:\n",
        "        Let's assume the input feature matrix consists of two columns: ['Title', 'Description']\n",
        "        We want to concatenate the text content of these columns into one: 'All Details'\n",
        "        The pipeline should be initialized as:\n",
        "            \n",
        "            sklearn.pipe.Pipeline(steps=[\n",
        "                ...,\n",
        "                ('all_details', TextAttribConcat(attribs_in=['Title', 'Description'], attrib_out='All Details', sep='-')),\n",
        "                ...\n",
        "            ])\n",
        "    \"\"\"\n",
        "\n",
        "    def __init__(self, attribs_in: List[str], attrib_out: str, sep: str = '\\n'):\n",
        "        super(TextAttribConcat, self).__init__()\n",
        "        self.attribs_in = attribs_in\n",
        "        self.attrib_out = attrib_out\n",
        "        self.sep = sep\n",
        "    \n",
        "    def fit(self, X , y=None):\n",
        "        return self\n",
        "\n",
        "    def transform(self, X: pd.DataFrame) -> pd.DataFrame:\n",
        "        # Fill NaNs with empty string, explicitly convert columns to string dtype and join values\n",
        "        X_ = X[self.attribs_in].fillna('').astype(str).agg(self.sep.join, axis=1)\n",
        "        return pd.DataFrame(\n",
        "            data=np.c_[X, X_],\n",
        "            columns=[*X.columns, self.attrib_out]\n",
        "        )"
      ]
    },
    {
      "cell_type": "code",
      "execution_count": 240,
      "metadata": {
        "id": "BCEuj222wYI6"
      },
      "outputs": [],
      "source": [
        "text_preprocessor = make_pipeline(\n",
        "    SpacyPreprocessor(mode='non_num', min_length=2), \n",
        "    FunctionTransformer(pd.DataFrame.dropna)\n",
        ")"
      ]
    },
    {
      "cell_type": "code",
      "execution_count": 241,
      "metadata": {
        "id": "yCCr1r9cWvBA"
      },
      "outputs": [],
      "source": [
        "pipe = Pipeline(steps=[\n",
        "    ('text_concat', TextAttribConcat(attribs_in=['Subject', 'Message'], attrib_out='Email Content', sep='\\n')),\n",
        "    ('text_preprocess', make_column_transformer((text_preprocessor, ['Email Content'])))\n",
        "])"
      ]
    },
    {
      "cell_type": "code",
      "execution_count": 242,
      "metadata": {
        "id": "a_pkev-ZYIVB"
      },
      "outputs": [],
      "source": [
        "X_train_clean = pipe.fit_transform(X_train)\n",
        "X_test_clean, X_val_clean = [pipe.transform(x) for x in (X_test, X_val)]"
      ]
    },
    {
      "cell_type": "markdown",
      "metadata": {
        "id": "PcrPrckHFAwG"
      },
      "source": [
        "# Analyze training corpus"
      ]
    },
    {
      "cell_type": "code",
      "execution_count": 243,
      "metadata": {
        "id": "oEtofGw5msLc"
      },
      "outputs": [],
      "source": [
        "from itertools import chain"
      ]
    },
    {
      "cell_type": "code",
      "execution_count": 244,
      "metadata": {
        "id": "9ZicsZg_mbDf"
      },
      "outputs": [],
      "source": [
        "def get_all_words(corpus: Iterable) -> list:\n",
        "    return list(chain(*[doc.split() for doc in corpus if doc]))"
      ]
    },
    {
      "cell_type": "code",
      "execution_count": 245,
      "metadata": {
        "id": "ue6SV1EpmzUO"
      },
      "outputs": [],
      "source": [
        "all_words = get_all_words(X_train_clean.flatten())"
      ]
    },
    {
      "cell_type": "code",
      "execution_count": 246,
      "metadata": {
        "id": "um9pCIM4X9a4"
      },
      "outputs": [],
      "source": [
        "vocab = nltk.FreqDist(all_words)\n",
        "vocab_20 = pd.Series(dict(vocab.most_common(20)))"
      ]
    },
    {
      "cell_type": "code",
      "execution_count": 247,
      "metadata": {
        "colab": {
          "base_uri": "https://localhost:8080/",
          "height": 425
        },
        "id": "hNqxjZQSYlJZ",
        "outputId": "4192270b-e3a3-49c9-84a0-1fbd18002829"
      },
      "outputs": [
        {
          "data": {
            "image/png": "[encoded data removed]",
            "text/plain": [
              "<Figure size 1200x600 with 1 Axes>"
            ]
          },
          "metadata": {},
          "output_type": "display_data"
        }
      ],
      "source": [
        "fig, ax = plt.subplots(figsize=(12, 6))\n",
        "sns.barplot(x=vocab_20.index, y=vocab_20.values, ax=ax)\n",
        "\n",
        "props = dict(boxstyle='round', facecolor='white', alpha=0.5)\n",
        "ax.text(0.775, 0.95, f'Vocab size = {len(vocab)}', transform=ax.transAxes, fontsize=12, verticalalignment='top', bbox=props)\n",
        "\n",
        "ax.set_title('Most common training tokens')\n",
        "ax.set_ylabel('Frequency')\n",
        "plt.xticks(rotation=90)\n",
        "\n",
        "plt.show()"
      ]
    },
    {
      "cell_type": "code",
      "execution_count": 248,
      "metadata": {
        "id": "rENKZCzel2to"
      },
      "outputs": [],
      "source": [
        "trigrams = nltk.trigrams(all_words)\n",
        "trigram_freqs_20 = pd.Series({\n",
        "    '_'.join(k): v for k, v in sorted(nltk.FreqDist(trigrams).most_common(20), key=lambda item:item[1], reverse=True)\n",
        "})"
      ]
    },
    {
      "cell_type": "code",
      "execution_count": 249,
      "metadata": {
        "colab": {
          "base_uri": "https://localhost:8080/",
          "height": 607
        },
        "id": "9XpQVfd3fExQ",
        "outputId": "f3d8ed2f-fe11-4ba5-f3e2-594143007f22"
      },
      "outputs": [
        {
          "data": {
            "image/png": "[encoded data removed]",
            "text/plain": [
              "<Figure size 1000x1000 with 1 Axes>"
            ]
          },
          "metadata": {},
          "output_type": "display_data"
        }
      ],
      "source": [
        "fig, ax = plt.subplots(figsize=(10, 10))\n",
        "sns.barplot(x=trigram_freqs_20.values, y=trigram_freqs_20.index, orient='h', ax=ax)\n",
        "ax.set_title('Most common training trigrams')\n",
        "ax.xaxis.set_major_locator(MaxNLocator(integer=True))\n",
        "plt.show()"
      ]
    },
    {
      "cell_type": "markdown",
      "metadata": {
        "id": "DunabTX5Kyna"
      },
      "source": [
        "# RNN Architecture"
      ]
    },
    {
      "cell_type": "code",
      "execution_count": 250,
      "metadata": {
        "id": "uDFlpb7SVh6i"
      },
      "outputs": [],
      "source": [
        "# Prepare training dataset\n",
        "train_text, train_labels = (\n",
        "    tf.data.Dataset.from_tensor_slices(x) for x in (X_train_clean, y_train)\n",
        ")\n",
        "train_ds = tf.data.Dataset.zip(datasets=(train_text, train_labels))"
      ]
    },
    {
      "cell_type": "code",
      "execution_count": 251,
      "metadata": {
        "id": "iGgVyOVicSIz"
      },
      "outputs": [],
      "source": [
        "# Prepare validation dataset\n",
        "val_ds = tf.data.Dataset.from_tensor_slices(tensors=(X_val_clean, y_val))"
      ]
    },
    {
      "cell_type": "code",
      "execution_count": 252,
      "metadata": {
        "id": "TSl-nCJXdeeG"
      },
      "outputs": [],
      "source": [
        "# Prepare testing dataset\n",
        "test_ds = tf.data.Dataset.from_tensor_slices(tensors=(X_test_clean, y_test))"
      ]
    },
    {
      "cell_type": "code",
      "execution_count": 3,
      "metadata": {
        "id": "oFrA37VaFUQL"
      },
      "outputs": [],
      "source": [
        "# Vocabulary size\n",
        "VOCAB_SIZE = 35000\n",
        "\n",
        "# Max number of words for each sequence\n",
        "MAX_LEN = 250\n",
        "\n",
        "# Max embedding size\n",
        "EMBED_DIM = 100\n",
        "\n",
        "# Set batch size\n",
        "BATCH_SIZE = 256\n",
        "\n",
        "# Set n-grams\n",
        "N_GRAMS = 3\n",
        "\n",
        "# Set number of epochs for training\n",
        "EPOCHS = 30\n",
        "\n",
        "# Learning rate\n",
        "LR = 1e-2"
      ]
    },
    {
      "cell_type": "markdown",
      "metadata": {
        "id": "MBM0mv3nSWcd"
      },
      "source": [
        "Build the model"
      ]
    },
    {
      "cell_type": "code",
      "execution_count": 4,
      "metadata": {},
      "outputs": [],
      "source": [
        "class LSTMClassifier(Model):\n",
        "    \n",
        "    \"\"\"\n",
        "    Description\n",
        "        LSTM model for multi-category classification.\n",
        "    \n",
        "    Arguments\n",
        "        - n_classes [int]: Number of output categories\n",
        "        - vocab_size [int]: Vocabulary size. By default 50 000.\n",
        "        - max_seq_len [int]: Max number of words for each sequence. By default 250.\n",
        "        - embed_dim [int]: Max embedding size. By default 100.\n",
        "        - n_grams [int]: Number of tokens to embed into ngrams vector. By default 2.\n",
        "    \"\"\"\n",
        "    \n",
        "    def __init__(self, n_classes: int = 2, vocab_size: int = 50000, max_seq_len: int = 250, embed_dim: int = 100, n_grams: int = 2):\n",
        "        # Call parent constructor\n",
        "        super(LSTMClassifier, self).__init__()\n",
        "        \n",
        "        # Assign variables to parameters\n",
        "        self.n_classes = n_classes\n",
        "        self.vocab_size = vocab_size\n",
        "        self.max_seq_len = max_seq_len\n",
        "        self.embed_dim = embed_dim\n",
        "        self.n_grams = n_grams      \n",
        "        \n",
        "        # Define layers\n",
        "        self.input_layer = Input(\n",
        "            name='inputs', \n",
        "            shape=(1,), \n",
        "            dtype=tf.string\n",
        "        )\n",
        "        self.vectorize_layer = TextVectorization(\n",
        "            max_tokens=self.vocab_size, \n",
        "            output_mode='int', \n",
        "            output_sequence_length=self.max_seq_len, \n",
        "            ngrams=self.n_grams,\n",
        "            pad_to_max_tokens=True,\n",
        "            name='vectorization_layer'\n",
        "        )\n",
        "        self.embedding_layer = Embedding(\n",
        "            input_dim=self.vocab_size + 1, \n",
        "            output_dim=self.embed_dim,\n",
        "            name='embedding_layer'\n",
        "        )\n",
        "        self.spatial_dropout = SpatialDropout1D(rate=0.2)\n",
        "        self.lstm_1 = LSTM(\n",
        "            units=128, \n",
        "            dropout=0.2, \n",
        "            recurrent_dropout=0.2, \n",
        "            name='lstm_layer_01'\n",
        "        )\n",
        "        self.dense_1 = Dense(\n",
        "            units=32, \n",
        "            activation='relu',\n",
        "            name='dense_layer_01'\n",
        "        )\n",
        "        self.dropout_1 = Dropout(0.5)\n",
        "        self.classifier = Dense(\n",
        "            units=self.n_classes, \n",
        "            activation='softmax', \n",
        "            name='outputs'\n",
        "        )\n",
        "    \n",
        "    def call(self, inputs):        \n",
        "        # TextVectorization layer is used to normalize, split, and map strings to integers (set `output_mode` to `int`), thus needs to be instantiated before calling the model.\n",
        "        # This layer transforms input document into a tensor of shape (batch_size, max_len) containing vocab indices.\n",
        "        # Explicitly set maximum sequence length, as the LSTM layers do not support ragged sequences.\n",
        "        # These layers are non-trainable, thus their state (vocabulary) must be set before training.\n",
        "        # The vocabulary for that layer must be either supplied on construction (precomputed constant) or learned via adapt().\n",
        "        # Furthermore, TextVectorization layer uses an underlying StringLookup layer that also needs to be initialized beforehand. \n",
        "        # Otherwise, FailedPreconditionError: Table not initialized exception is raised.\n",
        "        x = self.vectorize_layer(inputs)\n",
        "\n",
        "        # Embedding layer is mapping those vocab indices into a space of dimensionality (embedding_dim,). \n",
        "        # Note that we're using max_features + 1 here, since there's an OOV token that is added to the vocabulary in vectorize_layer.\n",
        "        x = self.embedding_layer(x)\n",
        "\n",
        "        # SpatialDropout1D performs variational dropout in NLP models.\n",
        "        x = self.spatial_dropout(x)\n",
        "\n",
        "        # While using multiple LSTM layers, the preceeding LSTM layer needs to return sequences.\n",
        "        # Then, these sequences are passed as input to the next LSTM layer.\n",
        "        x = self.lstm_1(x)\n",
        "\n",
        "        # Following Dense layers increase the model's capacity to capture complex relationships\n",
        "        # A dropout layer is used for regulating the network and keeping it as away as possible from any bias.\n",
        "        x = self.dense_1(x)\n",
        "        x = self.dropout_1(x)\n",
        "\n",
        "        # The output Dense layer with a softmax activation function returns prediction probability for each category.\n",
        "        return self.classifier(x)\n",
        "\n",
        "    def build_graph(self):\n",
        "        # Helper function to plot the model summary information conveniently.\n",
        "        x = self.input_layer\n",
        "        return Model(inputs=x, outputs=self.call(x))\n",
        "\n",
        "    def compute_vocabulary(self, text_dataset: tf.data.Dataset):\n",
        "        # Computes a vocabulary of string terms from tokens in a dataset.\n",
        "        # It is necessary to supply vocabulary to the TextVectorization layer, whenever a model is instantiated (before fitting).\n",
        "        self.vectorize_layer.adapt(text_dataset)"
      ]
    },
    {
      "cell_type": "code",
      "execution_count": 255,
      "metadata": {},
      "outputs": [
        {
          "name": "stdout",
          "output_type": "stream",
          "text": [
            "WARNING:tensorflow:Layer lstm_layer_01 will not use cuDNN kernels since it doesn't meet the criteria. It will use a generic GPU kernel as fallback when running on GPU.\n"
          ]
        },
        {
          "name": "stderr",
          "output_type": "stream",
          "text": [
            "WARNING:tensorflow:Layer lstm_layer_01 will not use cuDNN kernels since it doesn't meet the criteria. It will use a generic GPU kernel as fallback when running on GPU.\n"
          ]
        }
      ],
      "source": [
        "lstm = LSTMClassifier(vocab_size=VOCAB_SIZE, n_grams=N_GRAMS)\n",
        "lstm.compute_vocabulary(train_text.batch(BATCH_SIZE))"
      ]
    },
    {
      "cell_type": "code",
      "execution_count": 256,
      "metadata": {
        "id": "2OBlypn_2WWW"
      },
      "outputs": [],
      "source": [
        "lstm.compile(\n",
        "    # Because it is a binary-class classification problem, binary_crossentropy is used as the loss function.\n",
        "    # loss='binary_crossentropy',\n",
        "    # However, we want to get the category index of the most like matching category.\n",
        "    # Since our labels are integers and are not one-hot encoded, the sparse categorical crossentropy is used.\n",
        "    loss='sparse_categorical_crossentropy',\n",
        "    optimizer=Adam(learning_rate=LR),\n",
        "    metrics=['accuracy']\n",
        ")"
      ]
    },
    {
      "cell_type": "code",
      "execution_count": 257,
      "metadata": {},
      "outputs": [
        {
          "name": "stdout",
          "output_type": "stream",
          "text": [
            "Model: \"model_9\"\n",
            "_________________________________________________________________\n",
            " Layer (type)                Output Shape              Param #   \n",
            "=================================================================\n",
            " inputs (InputLayer)         [(None, 1)]               0         \n",
            "                                                                 \n",
            " vectorization_layer (TextVe  (None, 250)              0         \n",
            " ctorization)                                                    \n",
            "                                                                 \n",
            " embedding_layer (Embedding)  (None, 250, 100)         3500100   \n",
            "                                                                 \n",
            " spatial_dropout1d_9 (Spatia  (None, 250, 100)         0         \n",
            " lDropout1D)                                                     \n",
            "                                                                 \n",
            " lstm_layer_01 (LSTM)        (None, 128)               117248    \n",
            "                                                                 \n",
            " dense_layer_01 (Dense)      (None, 32)                4128      \n",
            "                                                                 \n",
            " dropout_9 (Dropout)         (None, 32)                0         \n",
            "                                                                 \n",
            " outputs (Dense)             (None, 2)                 66        \n",
            "                                                                 \n",
            "=================================================================\n",
            "Total params: 3,621,542\n",
            "Trainable params: 3,621,542\n",
            "Non-trainable params: 0\n",
            "_________________________________________________________________\n"
          ]
        }
      ],
      "source": [
        "lstm.build_graph().summary()"
      ]
    },
    {
      "cell_type": "code",
      "execution_count": 258,
      "metadata": {
        "id": "35IllRdFSNLP"
      },
      "outputs": [],
      "source": [
        "checkpoints_path = os.path.join(LSTM_PATH, 'checkpoints', datetime.now().strftime(r\"%Y%m%d%H%m\"))\n",
        "\n",
        "callbacks = [\n",
        "    EarlyStopping(monitor='val_loss', patience=3, min_delta=1e-4, verbose=1),\n",
        "    ReduceLROnPlateau(monitor='val_loss', factor=0.2, patience=3, min_lr=1e-4, verbose=1),\n",
        "    ModelCheckpoint(filepath=checkpoints_path, monitor='val_loss', save_best_only=True, verbose=1)\n",
        "]"
      ]
    },
    {
      "cell_type": "code",
      "execution_count": 259,
      "metadata": {
        "colab": {
          "base_uri": "https://localhost:8080/"
        },
        "id": "6RtqZHzcVERX",
        "outputId": "5353643b-1e47-4d1d-ff82-63c112ec5a29"
      },
      "outputs": [
        {
          "name": "stdout",
          "output_type": "stream",
          "text": [
            "Epoch 1/30\n",
            "58/58 [==============================] - ETA: 0s - loss: 0.3716 - accuracy: 0.8671\n",
            "Epoch 1: val_loss improved from inf to 0.24739, saving model to ..\\models\\LSTM\\checkpoints\\202210031510\n",
            "INFO:tensorflow:Assets written to: ..\\models\\LSTM\\checkpoints\\202210031510\\assets\n"
          ]
        },
        {
          "name": "stderr",
          "output_type": "stream",
          "text": [
            "INFO:tensorflow:Assets written to: ..\\models\\LSTM\\checkpoints\\202210031510\\assets\n"
          ]
        },
        {
          "name": "stdout",
          "output_type": "stream",
          "text": [
            "58/58 [==============================] - 198s 3s/step - loss: 0.3716 - accuracy: 0.8671 - val_loss: 0.2474 - val_accuracy: 0.9214 - lr: 0.0100\n",
            "Epoch 2/30\n",
            "58/58 [==============================] - ETA: 0s - loss: 0.2289 - accuracy: 0.9241\n",
            "Epoch 2: val_loss improved from 0.24739 to 0.18906, saving model to ..\\models\\LSTM\\checkpoints\\202210031510\n",
            "INFO:tensorflow:Assets written to: ..\\models\\LSTM\\checkpoints\\202210031510\\assets\n"
          ]
        },
        {
          "name": "stderr",
          "output_type": "stream",
          "text": [
            "INFO:tensorflow:Assets written to: ..\\models\\LSTM\\checkpoints\\202210031510\\assets\n"
          ]
        },
        {
          "name": "stdout",
          "output_type": "stream",
          "text": [
            "58/58 [==============================] - 195s 3s/step - loss: 0.2289 - accuracy: 0.9241 - val_loss: 0.1891 - val_accuracy: 0.9588 - lr: 0.0100\n",
            "Epoch 3/30\n",
            "58/58 [==============================] - ETA: 0s - loss: 0.1296 - accuracy: 0.9690\n",
            "Epoch 3: val_loss improved from 0.18906 to 0.06848, saving model to ..\\models\\LSTM\\checkpoints\\202210031510\n",
            "INFO:tensorflow:Assets written to: ..\\models\\LSTM\\checkpoints\\202210031510\\assets\n"
          ]
        },
        {
          "name": "stderr",
          "output_type": "stream",
          "text": [
            "INFO:tensorflow:Assets written to: ..\\models\\LSTM\\checkpoints\\202210031510\\assets\n"
          ]
        },
        {
          "name": "stdout",
          "output_type": "stream",
          "text": [
            "58/58 [==============================] - 192s 3s/step - loss: 0.1296 - accuracy: 0.9690 - val_loss: 0.0685 - val_accuracy: 0.9772 - lr: 0.0100\n",
            "Epoch 4/30\n",
            "58/58 [==============================] - ETA: 0s - loss: 0.0656 - accuracy: 0.9835\n",
            "Epoch 4: val_loss improved from 0.06848 to 0.05736, saving model to ..\\models\\LSTM\\checkpoints\\202210031510\n",
            "INFO:tensorflow:Assets written to: ..\\models\\LSTM\\checkpoints\\202210031510\\assets\n"
          ]
        },
        {
          "name": "stderr",
          "output_type": "stream",
          "text": [
            "INFO:tensorflow:Assets written to: ..\\models\\LSTM\\checkpoints\\202210031510\\assets\n"
          ]
        },
        {
          "name": "stdout",
          "output_type": "stream",
          "text": [
            "58/58 [==============================] - 198s 3s/step - loss: 0.0656 - accuracy: 0.9835 - val_loss: 0.0574 - val_accuracy: 0.9821 - lr: 0.0100\n",
            "Epoch 5/30\n",
            "58/58 [==============================] - ETA: 0s - loss: 0.0450 - accuracy: 0.9870\n",
            "Epoch 5: val_loss improved from 0.05736 to 0.05517, saving model to ..\\models\\LSTM\\checkpoints\\202210031510\n",
            "INFO:tensorflow:Assets written to: ..\\models\\LSTM\\checkpoints\\202210031510\\assets\n"
          ]
        },
        {
          "name": "stderr",
          "output_type": "stream",
          "text": [
            "INFO:tensorflow:Assets written to: ..\\models\\LSTM\\checkpoints\\202210031510\\assets\n"
          ]
        },
        {
          "name": "stdout",
          "output_type": "stream",
          "text": [
            "58/58 [==============================] - 192s 3s/step - loss: 0.0450 - accuracy: 0.9870 - val_loss: 0.0552 - val_accuracy: 0.9827 - lr: 0.0100\n",
            "Epoch 6/30\n",
            "58/58 [==============================] - ETA: 0s - loss: 0.0373 - accuracy: 0.9875\n",
            "Epoch 6: val_loss did not improve from 0.05517\n",
            "58/58 [==============================] - 189s 3s/step - loss: 0.0373 - accuracy: 0.9875 - val_loss: 0.0596 - val_accuracy: 0.9810 - lr: 0.0100\n",
            "Epoch 7/30\n",
            "58/58 [==============================] - ETA: 0s - loss: 0.0255 - accuracy: 0.9902\n",
            "Epoch 7: val_loss did not improve from 0.05517\n",
            "58/58 [==============================] - 187s 3s/step - loss: 0.0255 - accuracy: 0.9902 - val_loss: 0.0606 - val_accuracy: 0.9843 - lr: 0.0100\n",
            "Epoch 8/30\n",
            "58/58 [==============================] - ETA: 0s - loss: 0.0192 - accuracy: 0.9909\n",
            "Epoch 8: val_loss improved from 0.05517 to 0.05457, saving model to ..\\models\\LSTM\\checkpoints\\202210031510\n",
            "INFO:tensorflow:Assets written to: ..\\models\\LSTM\\checkpoints\\202210031510\\assets\n"
          ]
        },
        {
          "name": "stderr",
          "output_type": "stream",
          "text": [
            "INFO:tensorflow:Assets written to: ..\\models\\LSTM\\checkpoints\\202210031510\\assets\n"
          ]
        },
        {
          "name": "stdout",
          "output_type": "stream",
          "text": [
            "58/58 [==============================] - 192s 3s/step - loss: 0.0192 - accuracy: 0.9909 - val_loss: 0.0546 - val_accuracy: 0.9837 - lr: 0.0100\n",
            "Epoch 9/30\n",
            "58/58 [==============================] - ETA: 0s - loss: 0.0174 - accuracy: 0.9915\n",
            "Epoch 9: val_loss did not improve from 0.05457\n",
            "58/58 [==============================] - 316s 5s/step - loss: 0.0174 - accuracy: 0.9915 - val_loss: 0.0703 - val_accuracy: 0.9843 - lr: 0.0100\n",
            "Epoch 10/30\n",
            "58/58 [==============================] - ETA: 0s - loss: 0.0148 - accuracy: 0.9927\n",
            "Epoch 10: val_loss did not improve from 0.05457\n",
            "58/58 [==============================] - 183s 3s/step - loss: 0.0148 - accuracy: 0.9927 - val_loss: 0.0755 - val_accuracy: 0.9837 - lr: 0.0100\n",
            "Epoch 11/30\n",
            "58/58 [==============================] - ETA: 0s - loss: 0.0153 - accuracy: 0.9917\n",
            "Epoch 11: ReduceLROnPlateau reducing learning rate to 0.0019999999552965165.\n",
            "\n",
            "Epoch 11: val_loss did not improve from 0.05457\n",
            "58/58 [==============================] - 183s 3s/step - loss: 0.0153 - accuracy: 0.9917 - val_loss: 0.0611 - val_accuracy: 0.9837 - lr: 0.0100\n",
            "Epoch 11: early stopping\n"
          ]
        }
      ],
      "source": [
        "history = lstm.fit(\n",
        "    train_ds.batch(BATCH_SIZE), \n",
        "    validation_data=val_ds.batch(BATCH_SIZE),\n",
        "    epochs=EPOCHS,\n",
        "    callbacks=callbacks\n",
        ").history"
      ]
    },
    {
      "cell_type": "code",
      "execution_count": 260,
      "metadata": {
        "colab": {
          "base_uri": "https://localhost:8080/"
        },
        "id": "uL2ulv3jSWG-",
        "outputId": "feab4285-457b-4e99-a68f-0535b4a527d5"
      },
      "outputs": [
        {
          "name": "stdout",
          "output_type": "stream",
          "text": [
            "WARNING:tensorflow:Layer lstm_layer_01 will not use cuDNN kernels since it doesn't meet the criteria. It will use a generic GPU kernel as fallback when running on GPU.\n"
          ]
        },
        {
          "name": "stderr",
          "output_type": "stream",
          "text": [
            "WARNING:tensorflow:Layer lstm_layer_01 will not use cuDNN kernels since it doesn't meet the criteria. It will use a generic GPU kernel as fallback when running on GPU.\n"
          ]
        }
      ],
      "source": [
        "lstm = tf.keras.models.load_model(checkpoints_path)"
      ]
    },
    {
      "cell_type": "code",
      "execution_count": 263,
      "metadata": {},
      "outputs": [
        {
          "name": "stdout",
          "output_type": "stream",
          "text": [
            "Test set scores:\n",
            " - Loss: 0.033\n",
            " - Accuracy: 0.990\n"
          ]
        }
      ],
      "source": [
        "scores = lstm.evaluate(test_ds.batch(BATCH_SIZE), verbose=0)\n",
        "print('Test set scores:\\n - Loss: {:.3f}\\n - Accuracy: {:.3f}'.format(*scores))"
      ]
    },
    {
      "cell_type": "code",
      "execution_count": 264,
      "metadata": {
        "colab": {
          "base_uri": "https://localhost:8080/",
          "height": 404
        },
        "id": "rS8VC8N9c3uY",
        "outputId": "c2ab1dbd-c2b3-480f-f6f6-c8cb722450d5"
      },
      "outputs": [
        {
          "data": {
            "image/png": "[encoded data removed]",
            "text/plain": [
              "<Figure size 1600x600 with 2 Axes>"
            ]
          },
          "metadata": {},
          "output_type": "display_data"
        }
      ],
      "source": [
        "fig, ax = plt.subplots(nrows=1, ncols=2, figsize=(16, 6))\n",
        "\n",
        "for i, metric in enumerate(['accuracy', 'loss']):\n",
        "    ax[i].plot(history[metric], label='train')\n",
        "    ax[i].plot(history[f'val_{metric}'], label='validation')\n",
        "    ax[i].set_title(f'Model {metric}')\n",
        "    ax[i].set_ylabel(metric.title())\n",
        "    ax[i].set_xlabel('Epoch')\n",
        "    ax[i].legend()\n",
        "\n",
        "plt.show()"
      ]
    },
    {
      "cell_type": "markdown",
      "metadata": {
        "id": "YAFN6JBVbRN7"
      },
      "source": [
        "# Export model"
      ]
    },
    {
      "cell_type": "code",
      "execution_count": 265,
      "metadata": {
        "colab": {
          "base_uri": "https://localhost:8080/"
        },
        "id": "iesWXcJ_bwbs",
        "outputId": "8ef89d12-e80c-4b7c-c424-de457375361a"
      },
      "outputs": [
        {
          "name": "stderr",
          "output_type": "stream",
          "text": [
            "WARNING:absl:Found untraced functions such as embedding_layer_layer_call_fn, embedding_layer_layer_call_and_return_conditional_losses, dense_layer_01_layer_call_fn, dense_layer_01_layer_call_and_return_conditional_losses, dropout_9_layer_call_fn while saving (showing 5 of 8). These functions will not be directly callable after loading.\n"
          ]
        },
        {
          "name": "stdout",
          "output_type": "stream",
          "text": [
            "INFO:tensorflow:Assets written to: ..\\models\\LSTM\\assets\n"
          ]
        },
        {
          "name": "stderr",
          "output_type": "stream",
          "text": [
            "INFO:tensorflow:Assets written to: ..\\models\\LSTM\\assets\n"
          ]
        },
        {
          "name": "stdout",
          "output_type": "stream",
          "text": [
            "[!] Model saved as d:\\PyCharm Professional\\Projects\\MachineLearningPhishing\\models\\LSTM\n"
          ]
        }
      ],
      "source": [
        "if SAVE_MODEL:\n",
        "    out_path = LSTM_PATH\n",
        "    lstm.save(out_path)\n",
        "    print(f'[!] Model saved as {os.path.abspath(out_path)}')"
      ]
    },
    {
      "cell_type": "code",
      "execution_count": 5,
      "metadata": {},
      "outputs": [
        {
          "name": "stdout",
          "output_type": "stream",
          "text": [
            "WARNING:tensorflow:Layer lstm_layer_01 will not use cuDNN kernels since it doesn't meet the criteria. It will use a generic GPU kernel as fallback when running on GPU.\n"
          ]
        },
        {
          "data": {
            "text/plain": [
              "'d:\\\\PyCharm Professional\\\\Projects\\\\MachineLearningPhishing\\\\testing'"
            ]
          },
          "execution_count": 5,
          "metadata": {},
          "output_type": "execute_result"
        }
      ],
      "source": [
        "lstm_test = tf.keras.models.load_model(LSTM_PATH)\n",
        "testing_path = '../testing'\n",
        "os.path.abspath(testing_path)"
      ]
    }
  ],
  "metadata": {
    "accelerator": "GPU",
    "colab": {
      "collapsed_sections": [],
      "provenance": []
    },
    "gpuClass": "standard",
    "kernelspec": {
      "display_name": "Python 3.9.12 ('base')",
      "language": "python",
      "name": "python3"
    },
    "language_info": {
      "codemirror_mode": {
        "name": "ipython",
        "version": 3
      },
      "file_extension": ".py",
      "mimetype": "text/x-python",
      "name": "python",
      "nbconvert_exporter": "python",
      "pygments_lexer": "ipython3",
      "version": "3.9.13"
    },
    "vscode": {
      "interpreter": {
        "hash": "cb48f676f23352eddea1d5ac855770efdaa731954e953917b9035bcfc8934ab3"
      }
    }
  },
  "nbformat": 4,
  "nbformat_minor": 0
}
